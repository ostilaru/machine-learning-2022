{
 "cells": [
  {
   "cell_type": "code",
   "execution_count": 1,
   "metadata": {
    "pycharm": {
     "name": "#%%\n"
    }
   },
   "outputs": [],
   "source": [
    "import numpy as np\n",
    "import time"
   ]
  },
  {
   "cell_type": "markdown",
   "metadata": {
    "pycharm": {
     "name": "#%% md\n"
    }
   },
   "source": [
    "# generate data"
   ]
  },
  {
   "cell_type": "code",
   "execution_count": 2,
   "metadata": {
    "pycharm": {
     "name": "#%%\n"
    }
   },
   "outputs": [],
   "source": [
    "# In real world, you cannot learn how the data was generated. So do not rely on this function when coding your lab.\n",
    "def generate_data(dim, num):\n",
    "    x = np.random.normal(0, 10, [num, dim])\n",
    "    coef = np.random.uniform(-1, 1, [dim, 1])\n",
    "    pred = np.dot(x, coef)\n",
    "    pred_n = (pred - np.mean(pred)) / np.sqrt(np.var(pred))\n",
    "    label = np.sign(pred_n)\n",
    "    mislabel_value = np.random.uniform(0, 1, num)\n",
    "    mislabel = 0\n",
    "    for i in range(num):\n",
    "        if np.abs(pred_n[i]) < 1 and mislabel_value[i] > 0.9 + 0.1 * np.abs(pred_n[i]):\n",
    "            label[i] *= -1\n",
    "            mislabel += 1\n",
    "    return x, label, mislabel/num"
   ]
  },
  {
   "cell_type": "markdown",
   "metadata": {
    "pycharm": {
     "name": "#%% md\n"
    }
   },
   "source": [
    "# write your model class"
   ]
  },
  {
   "cell_type": "markdown",
   "source": [
    "### 用SMO优化"
   ],
   "metadata": {
    "collapsed": false,
    "pycharm": {
     "name": "#%% md\n"
    }
   }
  },
  {
   "cell_type": "code",
   "execution_count": 3,
   "outputs": [],
   "source": [
    "def clipAlpha(aj, H, L):  # 得到截断解\n",
    "    if aj > H:\n",
    "        aj = H\n",
    "    if aj < L:\n",
    "        aj = L\n",
    "    return aj\n",
    "class SVM1:\n",
    "    def __init__(self, m, C, toler, random_select_alpha_j=True, delta=1e-5, max_iter=4):\n",
    "        \"\"\"\n",
    "        You can add some other parameters, which I think is not necessary\n",
    "        m: 数据数量\n",
    "        alpha,b: 待优化参数\n",
    "        toler: 用于软间隔\n",
    "        random_select_alpha_j: 如何选定第二个alpha, True->随机选择\n",
    "        delta: alpha更新是否够大\n",
    "        max_iter: 最大迭代数目\n",
    "        \"\"\"\n",
    "        self.m = m\n",
    "        self.alpha = np.mat(np.zeros((m, 1)))\n",
    "        self.b = 0\n",
    "        self.E_cashe = np.zeros((self.m, 2))  # 缓存误差E\n",
    "        self.C = C\n",
    "        self.toler = toler\n",
    "        self.alpha_delta = delta\n",
    "        self.maxiter = max_iter\n",
    "        self.w = None\n",
    "        self.random_select = random_select_alpha_j\n",
    "\n",
    "    def fit(self, X, label):\n",
    "        \"\"\"\n",
    "        Fit the coefficients via your methods\n",
    "        最终得到的b, w用来进行预测\n",
    "        \"\"\"\n",
    "        # 因为update_para里面有KKT条件判断, 因此这里就直接遍历就行, 在里面判断KKT\n",
    "        iter = 0\n",
    "        while iter < self.maxiter:\n",
    "            alphaPairsChanged = 0\n",
    "            for i in range(self.m):\n",
    "                alphaPairsChanged += self.update_para(i, label, X)  # 调用内循环\n",
    "            iter += 1  # 无论是否更新过，我们都计算迭代一次\n",
    "        print(\"iteration number: %d\" % iter)\n",
    "\n",
    "        mid_result = np.multiply(self.alpha, label)\n",
    "        self.w = np.sum(np.multiply(mid_result, X), axis=0)  # shape: (1,25)\n",
    "\n",
    "    def predict(self, X):\n",
    "        \"\"\"\n",
    "        Use the trained model to generate prediction probabilities on a new\n",
    "        collection of data points.\n",
    "        \"\"\"\n",
    "        y = np.sign(X * self.w.T + self.b)\n",
    "        return y\n",
    "\n",
    "    def cal_Ek(self, label, k, X):\n",
    "        # 计算Ek\n",
    "        fxk = np.multiply(self.alpha, label).T @ (X @ X[k, :]) + self.b\n",
    "        Ek = fxk - label[k]\n",
    "        return Ek\n",
    "\n",
    "    def update_Ek(self, label, k, X):\n",
    "        # 更新Ek\n",
    "        Ek = self.cal_Ek(label, k, X)\n",
    "        self.E_cashe[k][0] = 1  # 第一列1，表示为有效标识\n",
    "        self.E_cashe[k][1] = Ek\n",
    "\n",
    "    def select_j(self, i, Ei, label, X):\n",
    "        \"\"\"\n",
    "        在已知一个alpha的情况下寻找第二个alpha, i.e. max{|Ei-Ej|}\n",
    "        \"\"\"\n",
    "        max_j = -1  # 用于保存临时最大索引\n",
    "        maxDeltaE = 0  # 用于保存临时最大差值--->|Ei-Ej|\n",
    "        Ej = 0\n",
    "\n",
    "        self.E_cashe[i][0] = 1  # 第一列1，表示为有效标识\n",
    "        self.E_cashe[i][1] = Ei\n",
    "\n",
    "        # 开始获取各个Ek值，比较|Ei-Ej|获取Ej的所有\n",
    "        # 获取所有有效的Ek值对应的索引\n",
    "        validECacheList = np.where(self.E_cashe[:, 0] != 0)[0]  # 根据误差缓存中第一列非0，获取对应的有效误差值\n",
    "        # 这种方法不推荐！\n",
    "        if len(validECacheList) > 1 and not self.random_select:\n",
    "            for k in validECacheList:\n",
    "                if k == i:  # 相同则不处理\n",
    "                    continue\n",
    "                # 开始计算Ek值，进行对比，获取最大差值\n",
    "                Ek = self.cal_Ek(label, k, X)\n",
    "                deltaE = abs(Ei - Ek)\n",
    "                if deltaE > maxDeltaE:  # 更新Ej及其索引位置\n",
    "                    max_j = k\n",
    "                    maxDeltaE = deltaE\n",
    "                    Ej = Ek\n",
    "            return max_j, Ej  # 返回我们找到的第二个变量α_2的位置\n",
    "        else:\n",
    "            j = i\n",
    "            while j == i:\n",
    "                j = int(np.random.uniform(0, self.m))  # 从0~m中随机选取一个数，是进行整数化的\n",
    "            Ej = self.cal_Ek(label, j, X)\n",
    "            return j, Ej\n",
    "\n",
    "    def update_para(self, i, label, X):\n",
    "        Ei = self.cal_Ek(label, i, X)\n",
    "        # gi = self.cal_gk(label, i, X)\n",
    "        # 下面需要检查是否违背KKT条件:\n",
    "        if ((label[i] * Ei < -self.toler) and (self.alpha[i] < self.C)) or \\\n",
    "                ((label[i] * Ei > self.toler) and (self.alpha[i] > 0)):\n",
    "            # 违背KKT条件\n",
    "            # --------------检测区域1--START(详情见报告)---------------\n",
    "            j, Ej = self.select_j(i, Ei, label, X)\n",
    "            alpha_i_old = self.alpha[i]\n",
    "            alpha_j_old = self.alpha[j]  # 保存2个值\n",
    "\n",
    "            # --------------检测区域1--END(详情见报告)---------------\n",
    "\n",
    "            # 下面要更新alpha_2, 首先计算出截断边界, 判断两者是否同号:\n",
    "            # --------------检测区域2--START(详情见报告)---------------\n",
    "            if label[i] != label[j]:\n",
    "                L = max(0, alpha_j_old - alpha_i_old)\n",
    "                H = min(self.C, self.C + alpha_j_old - alpha_i_old)\n",
    "            else:\n",
    "                L = max(0, alpha_j_old + alpha_i_old - self.C)\n",
    "                H = min(self.C, alpha_j_old + alpha_i_old)\n",
    "            if L == H:  # 如果L==H，之间返回0，跳出这次循环，不进行改变(单值选择，没必要）\n",
    "                return 0\n",
    "\n",
    "            # 计算未截断的alpha_2, 计算要素: E1,E2,K11,K12,K22\n",
    "            # 设 η=K11+K22-2K12 可以化为完全平方式.\n",
    "            eta = X[i] @ X[i] + X[j] @ X[j] - 2.0 * X[i] @ X[j]\n",
    "            if eta == 0:\n",
    "                return 0\n",
    "            # 未截断alpha_2:\n",
    "            self.alpha[j] += label[j] * (Ei - Ej) / eta\n",
    "            self.alpha[j] = clipAlpha(self.alpha[j], H, L)\n",
    "            self.update_Ek(label, j, X)\n",
    "            # --------------检测区域2--END(详情见报告)---------------\n",
    "\n",
    "            # 因此如果小于delta, 不进行alpha_1更新\n",
    "            if abs(self.alpha[j] - alpha_j_old) < self.alpha_delta:\n",
    "                return 0\n",
    "            # alpha_1可以根据alpha_2算得\n",
    "            self.alpha[i] += label[i] * label[j] * (alpha_j_old - self.alpha[j])\n",
    "            # alpha更新, 故更新一次E_i\n",
    "            self.update_Ek(label, i, X)\n",
    "            # 更新b, 有现成的公式, 照着写就ok\n",
    "            b1 = self.b - Ei - label[i] * (self.alpha[i] - alpha_i_old) * X[i] @ X[i] - label[j] * (\n",
    "                    self.alpha[j] - alpha_j_old) * X[i] @ X[j]\n",
    "\n",
    "            b2 = self.b - Ej - label[i] * (self.alpha[i] - alpha_i_old) * X[i] @ X[j] - label[j] * (\n",
    "                    self.alpha[j] - alpha_j_old) * X[j] @ X[j]\n",
    "            # 根据《统计学习方法》更新b\n",
    "            if 0 < self.alpha[i] < self.C:\n",
    "                self.b = b1\n",
    "            elif 0 < self.alpha[j] < self.C:\n",
    "                self.b = b2\n",
    "            else:\n",
    "                self.b = 1 / 2 * (b1 + b2)\n",
    "            return 1\n",
    "\n",
    "        else:\n",
    "            # 不违背KKT条件\n",
    "            return 0"
   ],
   "metadata": {
    "collapsed": false,
    "pycharm": {
     "name": "#%%\n"
    }
   }
  },
  {
   "cell_type": "code",
   "execution_count": 4,
   "metadata": {
    "pycharm": {
     "name": "#%%\n"
    }
   },
   "outputs": [],
   "source": [
    "# you can do anything necessary about the model\n",
    "class SVM2_gd:\n",
    "    def __init__(self, m, C, lr=0.001, max_iter=1e5):\n",
    "        self.m = m\n",
    "        self.b = 0\n",
    "        self.C = C\n",
    "        self.lr = lr\n",
    "        self.max_iter = max_iter\n",
    "        self.w = None\n",
    "\n",
    "    def fit(self, x, y):\n",
    "        self.w = np.zeros((1, x.shape[1]))\n",
    "        for i in range(int(self.max_iter)):\n",
    "            self.w *= 1 - self.lr\n",
    "            err = 1 - y * self.predict(x, need_sign=False)\n",
    "            idx = np.argmax(err)\n",
    "            if err[idx] <= 0:\n",
    "                continue\n",
    "            delta = self.lr * self.C * y[idx]\n",
    "            self.w = (1 - self.lr) * self.w + delta * x[idx]\n",
    "            self.b += delta\n",
    "\n",
    "    def predict(self, X, need_sign=True):\n",
    "        \"\"\"\n",
    "        Use the trained model to generate prediction probabilities on a new\n",
    "        collection of data points.\n",
    "        \"\"\"\n",
    "        if need_sign:\n",
    "            return np.sign(np.dot(X, self.w.T) + self.b)\n",
    "        else:\n",
    "            return np.dot(X, self.w.T) + self.b"
   ]
  },
  {
   "cell_type": "code",
   "execution_count": 5,
   "outputs": [],
   "source": [
    "def acc_cal(y_ground, y_pred):\n",
    "    # y_pred = (y_pred >= 0).astype(np.int64) - (y_pred < 0).astype(np.int64)\n",
    "    return np.sum((y_ground.squeeze()==y_pred.squeeze())) / y_ground.shape[0]"
   ],
   "metadata": {
    "collapsed": false,
    "pycharm": {
     "name": "#%%\n"
    }
   }
  },
  {
   "cell_type": "markdown",
   "metadata": {
    "pycharm": {
     "name": "#%% md\n"
    }
   },
   "source": [
    "# construct and train your models"
   ]
  },
  {
   "cell_type": "code",
   "execution_count": 51,
   "metadata": {
    "pycharm": {
     "name": "#%%\n"
    }
   },
   "outputs": [
    {
     "name": "stdout",
     "output_type": "stream",
     "text": [
      "0.0391\n"
     ]
    }
   ],
   "source": [
    "# generate data\n",
    "X_data, y_data, mislabel = generate_data(dim=20, num=10000)\n",
    "print(mislabel)\n",
    "# split data\n",
    "# 就按照4:1进行划分\n",
    "split = int(4*X_data.shape[0]/5)\n",
    "X_train = X_data[:split, :]\n",
    "X_test = X_data[split:, :]\n",
    "y_train = y_data[:split]\n",
    "y_test = y_data[split:]"
   ]
  },
  {
   "cell_type": "markdown",
   "metadata": {
    "pycharm": {
     "name": "#%% md\n"
    }
   },
   "source": [
    "# predict and compare your results"
   ]
  },
  {
   "cell_type": "markdown",
   "source": [
    "## 第一种方法: SMO.\n",
    "\n",
    "##### 注:我的错标率是0.0398\n",
    "我实际进行了3轮iteration, 在3.58s的时间里达到91.95%的准确率, 证明了模型的正确性.\n",
    "准确率: 91.95% (SMO, our method) v.s. 95.8% (sklearn)\n",
    "运行时间: 3.58s (SMO, our method) v.s. 25.48s (sklearn). 我的运行时间快很多.\n",
    "上面即为我的SMO优化与sklearn的对比, sklearn采用linear kernel.\n",
    "我使用的`max_iter`为3, 如果将sklearn的`max_iter`也设置为3, 则sklearn的(准确率,运行时间)=(62.95%,0.007). 这种情况下我的准确率又高很多."
   ],
   "metadata": {
    "collapsed": false,
    "pycharm": {
     "name": "#%% md\n"
    }
   }
  },
  {
   "cell_type": "code",
   "execution_count": 19,
   "metadata": {
    "pycharm": {
     "name": "#%%\n"
    }
   },
   "outputs": [
    {
     "name": "stdout",
     "output_type": "stream",
     "text": [
      "2000\n",
      "iteration number: 3\n",
      "3.5864064693450928\n",
      "0.9195\n"
     ]
    }
   ],
   "source": [
    "print(y_test.shape[0])\n",
    "SVM = SVM1(X_train.shape[0], C=5, toler=0, max_iter=3)\n",
    "time_start = time.time()\n",
    "SVM.fit(X_train, y_train)\n",
    "time_end = time.time()\n",
    "print(time_end - time_start)\n",
    "pred = SVM.predict(X_test)\n",
    "print(acc_cal(y_test, pred))"
   ]
  },
  {
   "cell_type": "markdown",
   "source": [
    "## 第二种方法: gradient descent\n",
    "在7.7s的时间里达到76%的准确率, 这个方法在我这里就不如SMO. 当然也是因为我没有加更多的东西(只写了最基本的GD).\n",
    "运行时间和准确率都比我的SMO方法要低很多.\n"
   ],
   "metadata": {
    "collapsed": false,
    "pycharm": {
     "name": "#%% md\n"
    }
   }
  },
  {
   "cell_type": "code",
   "execution_count": 53,
   "outputs": [
    {
     "name": "stdout",
     "output_type": "stream",
     "text": [
      "7.776864767074585\n",
      "0.714\n"
     ]
    }
   ],
   "source": [
    "SVM_2 = SVM2_gd(X_train.shape[0], C=5)\n",
    "time_start = time.time()\n",
    "SVM_2.fit(X_train, y_train)\n",
    "time_end = time.time()\n",
    "print(time_end - time_start)\n",
    "pred = SVM_2.predict(X_test)\n",
    "print(acc_cal(y_test, pred))"
   ],
   "metadata": {
    "collapsed": false,
    "pycharm": {
     "name": "#%%\n"
    }
   }
  },
  {
   "cell_type": "markdown",
   "source": [
    "## 与sklearn的比较"
   ],
   "metadata": {
    "collapsed": false,
    "pycharm": {
     "name": "#%% md\n"
    }
   }
  },
  {
   "cell_type": "code",
   "execution_count": 12,
   "outputs": [
    {
     "name": "stderr",
     "output_type": "stream",
     "text": [
      "D:\\Anaconda3\\lib\\site-packages\\sklearn\\utils\\validation.py:993: DataConversionWarning: A column-vector y was passed when a 1d array was expected. Please change the shape of y to (n_samples, ), for example using ravel().\n",
      "  y = column_or_1d(y, warn=True)\n",
      "D:\\Anaconda3\\lib\\site-packages\\sklearn\\svm\\_base.py:284: ConvergenceWarning: Solver terminated early (max_iter=4).  Consider pre-processing your data with StandardScaler or MinMaxScaler.\n",
      "  warnings.warn(\n"
     ]
    },
    {
     "data": {
      "text/plain": "(0.6295, 0.0069828033447265625)"
     },
     "execution_count": 12,
     "metadata": {},
     "output_type": "execute_result"
    }
   ],
   "source": [
    "# 这里和sklearn进行比较\n",
    "from sklearn.svm import SVC\n",
    "svm_model = SVC(kernel = 'linear', max_iter=4)\n",
    "\n",
    "time_start = time.time()\n",
    "svm_model.fit(X_train,y_train)\n",
    "time_end = time.time()\n",
    "\n",
    "pred_lib = svm_model.predict(X_test)\n",
    "\n",
    "acc = acc_cal(y_test, pred_lib)\n",
    "time_c= time_end - time_start\n",
    "acc, time_c"
   ],
   "metadata": {
    "collapsed": false,
    "pycharm": {
     "name": "#%%\n"
    }
   }
  },
  {
   "cell_type": "markdown",
   "source": [
    "## 实验探究\n",
    "\n",
    "#### 主要内容: 软间隔`toler`, 数据量, 数据维度.\n"
   ],
   "metadata": {
    "collapsed": false,
    "pycharm": {
     "name": "#%% md\n"
    }
   }
  },
  {
   "cell_type": "markdown",
   "source": [
    "首先固定数据维度为15, 数据量在[10, 50, 100, 200, 500, 1000, 3000, 5000, 7500, 10000]的准确率变化\n",
    "红线是SMO方法, 蓝线是GD. 可以看出随着数据量增长, 时间损耗上GD的增长速度要更快；在准确率上，数量较小时两者准确率都有明显提升（这是因为我的维度设置为15），而后维持在一定水平。且SMO在稳定性和大小上都要明显好于GD"
   ],
   "metadata": {
    "collapsed": false,
    "pycharm": {
     "name": "#%% md\n"
    }
   }
  },
  {
   "cell_type": "code",
   "execution_count": 14,
   "outputs": [
    {
     "name": "stdout",
     "output_type": "stream",
     "text": [
      "iteration number: 3\n",
      "iteration number: 3\n",
      "iteration number: 3\n",
      "iteration number: 3\n",
      "iteration number: 3\n",
      "iteration number: 3\n",
      "iteration number: 3\n",
      "iteration number: 3\n",
      "iteration number: 3\n",
      "iteration number: 3\n"
     ]
    },
    {
     "data": {
      "text/plain": "<Figure size 720x720 with 2 Axes>",
      "image/png": "[encoded data removed]"
     },
     "metadata": {
      "needs_background": "light"
     },
     "output_type": "display_data"
    }
   ],
   "source": [
    "import matplotlib.pyplot as plt\n",
    "\n",
    "data_num = [10, 50, 100, 200, 500, 1000, 3000, 5000, 7500, 10000]\n",
    "predict_smo=[]\n",
    "predict_gd = []\n",
    "time_smo = []\n",
    "time_gd = []\n",
    "mis_list = []\n",
    "for item in data_num:\n",
    "    # generate data\n",
    "    X_data, y_data, mislabel = generate_data(dim=15, num=item)\n",
    "    mis_list.append(mislabel)\n",
    "    split = int(4*X_data.shape[0]/5)\n",
    "    X_train = X_data[:split, :]\n",
    "    X_test = X_data[split:, :]\n",
    "    y_train = y_data[:split]\n",
    "    y_test = y_data[split:]\n",
    "    SVM = SVM1(X_train.shape[0], C=5, toler=0, max_iter=3)\n",
    "    time_start = time.time()\n",
    "    SVM.fit(X_train, y_train)\n",
    "    time_end = time.time()\n",
    "    time_smo.append(time_end-time_start)\n",
    "    pred = SVM.predict(X_test)\n",
    "    predict_smo.append(acc_cal(y_test, pred))\n",
    "\n",
    "    SVM_2 = SVM2_gd(X_train.shape[0], C=5)\n",
    "    time_start = time.time()\n",
    "    SVM_2.fit(X_train, y_train)\n",
    "    time_end = time.time()\n",
    "    time_gd.append(time_end-time_start)\n",
    "    pred = SVM_2.predict(X_test)\n",
    "    predict_gd.append(acc_cal(y_test, pred))\n",
    "plt.figure(figsize=(10,10))\n",
    "plt.subplot(211)\n",
    "plt.plot(data_num,predict_smo,marker=\"*\",label='SMO',color='r')\n",
    "plt.plot(data_num,predict_gd,marker='o',label='GD', color='b')\n",
    "plt.xlabel(\"data_num\")\n",
    "plt.ylabel(\"acc\")\n",
    "plt.title(\"acc--data_num curve.\")\n",
    "\n",
    "plt.subplot(212)\n",
    "plt.plot(data_num,time_smo,marker=\"*\",label='SMO',color='r')\n",
    "plt.plot(data_num,time_gd,marker='o',label='GD', color='b')\n",
    "plt.xlabel(\"data_num\")\n",
    "plt.ylabel(\"time_consume\")\n",
    "plt.title(\"time--data_num curve.\")\n",
    "\n",
    "plt.show()"
   ],
   "metadata": {
    "collapsed": false,
    "pycharm": {
     "name": "#%%\n"
    }
   }
  },
  {
   "cell_type": "code",
   "execution_count": 12,
   "outputs": [
    {
     "name": "stdout",
     "output_type": "stream",
     "text": [
      "iteration number: 3\n",
      "iteration number: 3\n",
      "iteration number: 3\n",
      "iteration number: 3\n",
      "iteration number: 3\n",
      "iteration number: 3\n"
     ]
    },
    {
     "data": {
      "text/plain": "<Figure size 720x720 with 2 Axes>",
      "image/png": "[encoded data removed]"
     },
     "metadata": {
      "needs_background": "light"
     },
     "output_type": "display_data"
    }
   ],
   "source": [
    "import matplotlib.pyplot as plt\n",
    "\n",
    "data_dim = [1, 5, 8, 10, 12, 15]\n",
    "predict_smo=[]\n",
    "predict_gd = []\n",
    "time_smo = []\n",
    "time_gd = []\n",
    "mis_list = []\n",
    "for item in data_dim:\n",
    "    # generate data\n",
    "    X_data, y_data, mislabel = generate_data(dim=item, num=5000)\n",
    "    split = int(4*X_data.shape[0]/5)\n",
    "    X_train = X_data[:split, :]\n",
    "    X_test = X_data[split:, :]\n",
    "    y_train = y_data[:split]\n",
    "    y_test = y_data[split:]\n",
    "    SVM = SVM1(X_train.shape[0], C=5, toler=0, max_iter=3)\n",
    "    time_start = time.time()\n",
    "    SVM.fit(X_train, y_train)\n",
    "    time_end = time.time()\n",
    "    time_smo.append(time_end-time_start)\n",
    "    pred = SVM.predict(X_test)\n",
    "    predict_smo.append(acc_cal(y_test, pred))\n",
    "\n",
    "    SVM_2 = SVM2_gd(X_train.shape[0], C=5)\n",
    "    time_start = time.time()\n",
    "    SVM_2.fit(X_train, y_train)\n",
    "    time_end = time.time()\n",
    "    time_gd.append(time_end-time_start)\n",
    "    pred = SVM_2.predict(X_test)\n",
    "    predict_gd.append(acc_cal(y_test, pred))\n",
    "plt.figure(figsize=(10,10))\n",
    "plt.subplot(211)\n",
    "plt.plot(data_dim,predict_smo,marker=\"*\",label='SMO',color='r')\n",
    "plt.plot(data_dim,predict_gd,marker='o',label='GD', color='b')\n",
    "plt.xlabel(\"data_dim\")\n",
    "plt.ylabel(\"acc\")\n",
    "plt.title(\"acc--data_num curve.\")\n",
    "\n",
    "plt.subplot(212)\n",
    "plt.plot(data_dim,time_smo,marker=\"*\",label='SMO',color='r')\n",
    "plt.plot(data_dim,time_gd,marker='o',label='GD', color='b')\n",
    "plt.xlabel(\"data_dim\")\n",
    "plt.ylabel(\"time_consume\")\n",
    "plt.title(\"time--data_num curve.\")\n",
    "\n",
    "plt.show()"
   ],
   "metadata": {
    "collapsed": false,
    "pycharm": {
     "name": "#%%\n"
    }
   }
  },
  {
   "cell_type": "code",
   "execution_count": 13,
   "outputs": [
    {
     "name": "stdout",
     "output_type": "stream",
     "text": [
      "iteration number: 3\n",
      "iteration number: 3\n",
      "iteration number: 3\n",
      "iteration number: 3\n",
      "iteration number: 3\n",
      "iteration number: 3\n",
      "iteration number: 3\n",
      "iteration number: 3\n",
      "iteration number: 3\n"
     ]
    },
    {
     "data": {
      "text/plain": "<Figure size 720x720 with 1 Axes>",
      "image/png": "[encoded data removed]"
     },
     "metadata": {
      "needs_background": "light"
     },
     "output_type": "display_data"
    }
   ],
   "source": [
    "import matplotlib.pyplot as plt\n",
    "X_data, y_data, mislabel = generate_data(dim=15, num=5000)\n",
    "split = int(4*X_data.shape[0]/5)\n",
    "X_train = X_data[:split, :]\n",
    "X_test = X_data[split:, :]\n",
    "y_train = y_data[:split]\n",
    "y_test = y_data[split:]\n",
    "tol_list = [0, 0.01, 0.05, 0.1, 0.2, 0.5, 0.8, 0.9, 1]\n",
    "predict_smo=[]\n",
    "for item in tol_list:\n",
    "    # generate data\n",
    "    SVM = SVM1(X_train.shape[0], C=5, toler=item, max_iter=3)\n",
    "    SVM.fit(X_train, y_train)\n",
    "    pred = SVM.predict(X_test)\n",
    "    predict_smo.append(acc_cal(y_test, pred))\n",
    "plt.figure(figsize=(10,10))\n",
    "plt.plot(tol_list,predict_smo,marker=\"*\",label='SMO',color='r')\n",
    "plt.xlabel(\"tol\")\n",
    "plt.ylabel(\"acc\")\n",
    "plt.title(\"acc--tol curve.\")\n",
    "plt.show()"
   ],
   "metadata": {
    "collapsed": false,
    "pycharm": {
     "name": "#%%\n"
    }
   }
  },
  {
   "cell_type": "code",
   "execution_count": null,
   "outputs": [],
   "source": [],
   "metadata": {
    "collapsed": false,
    "pycharm": {
     "name": "#%%\n"
    }
   }
  }
 ],
 "metadata": {
  "kernelspec": {
   "display_name": "Python 3",
   "language": "python",
   "name": "python3"
  },
  "language_info": {
   "codemirror_mode": {
    "name": "ipython",
    "version": 3
   },
   "file_extension": ".py",
   "mimetype": "text/x-python",
   "name": "python",
   "nbconvert_exporter": "python",
   "pygments_lexer": "ipython3",
   "version": "3.8.5"
  },
  "toc": {
   "base_numbering": 1,
   "nav_menu": {},
   "number_sections": true,
   "sideBar": true,
   "skip_h1_title": false,
   "title_cell": "Table of Contents",
   "title_sidebar": "Contents",
   "toc_cell": false,
   "toc_position": {},
   "toc_section_display": true,
   "toc_window_display": false
  }
 },
 "nbformat": 4,
 "nbformat_minor": 4
}