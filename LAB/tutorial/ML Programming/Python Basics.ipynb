{
 "cells": [
  {
   "cell_type": "markdown",
   "id": "2fb7a19d",
   "metadata": {},
   "source": [
    "# 1 Python Basics\n",
    "By zyt 2022/8/27"
   ]
  },
  {
   "cell_type": "markdown",
   "id": "3b0a42ce",
   "metadata": {},
   "source": [
    "## 1.1 Install\n",
    "\n",
    "为了方便的管理包，我们使用anaconda\n",
    "\n",
    "参考: https://zhuanlan.zhihu.com/p/358641541\n",
    "\n",
    "1. 下载: https://mirrors.tuna.tsinghua.edu.cn/anaconda/archive/ \n",
    "2. 安装: 建议手动勾选 'Add anaconda to the system PATH environment variable'\n",
    "3. 检查: 在命令行中输入 conda --version, 如果未显示，则需要手动添加环境变量\n",
    "3. 换源: https://mirrors.tuna.tsinghua.edu.cn/help/anaconda/"
   ]
  },
  {
   "cell_type": "markdown",
   "id": "c8a6ecf0",
   "metadata": {},
   "source": [
    "## 1.2 VSCode / Pycharm\n",
    "1. 如果你选择Pycharm, 只需要官网下载即可，学生可以通过发邮件免费申请专业版本\n",
    "2. 如果你习惯VSCode\n",
    "    1. 在extensions里搜索`Python`并安装\n",
    "    2. 选择解释器：\n",
    "        * Ctrl+Shift+P打开命令面板，输入`Python: Select Interprete`\n",
    "        * 选择Python安装路径(在Anaconda的目录下)"
   ]
  },
  {
   "cell_type": "markdown",
   "id": "d4028065",
   "metadata": {},
   "source": [
    "    1. 在extensions里搜索`Python`并安装\n",
    "    2. 选择解释器：\n",
    "        * Ctrl+Shift+P打开命令面板，输入`Python: Select Interprete`\n",
    "        * 选择Python安装路径(在Anaconda的目录下)"
   ]
  },
  {
   "cell_type": "markdown",
   "id": "b983b883",
   "metadata": {},
   "source": [
    "## 1.3 Hello World"
   ]
  },
  {
   "cell_type": "markdown",
   "id": "d72bad5a",
   "metadata": {},
   "source": [
    "在 conda prompt 里输入`jupyter notebook`"
   ]
  },
  {
   "cell_type": "code",
   "execution_count": 38,
   "id": "848f09c7",
   "metadata": {},
   "outputs": [
    {
     "name": "stdout",
     "output_type": "stream",
     "text": [
      "Hello World!\n"
     ]
    }
   ],
   "source": [
    "print('Hello World!')"
   ]
  },
  {
   "cell_type": "markdown",
   "id": "2bd757a0",
   "metadata": {},
   "source": [
    "## 1.4 Simple Math"
   ]
  },
  {
   "cell_type": "code",
   "execution_count": 39,
   "id": "9f27b645",
   "metadata": {},
   "outputs": [
    {
     "data": {
      "text/plain": [
       "67.5"
      ]
     },
     "execution_count": 39,
     "metadata": {},
     "output_type": "execute_result"
    }
   ],
   "source": [
    "135/2"
   ]
  },
  {
   "cell_type": "code",
   "execution_count": 40,
   "id": "57a5639d",
   "metadata": {},
   "outputs": [
    {
     "data": {
      "text/plain": [
       "8"
      ]
     },
     "execution_count": 40,
     "metadata": {},
     "output_type": "execute_result"
    }
   ],
   "source": [
    "2**3"
   ]
  },
  {
   "cell_type": "code",
   "execution_count": 41,
   "id": "dbe75293",
   "metadata": {},
   "outputs": [
    {
     "data": {
      "text/plain": [
       "1"
      ]
     },
     "execution_count": 41,
     "metadata": {},
     "output_type": "execute_result"
    }
   ],
   "source": [
    "9%4"
   ]
  },
  {
   "cell_type": "markdown",
   "id": "4894c0bb",
   "metadata": {},
   "source": [
    "## 1.5 If Else"
   ]
  },
  {
   "cell_type": "code",
   "execution_count": 45,
   "id": "33bb77a1",
   "metadata": {},
   "outputs": [
    {
     "name": "stdout",
     "output_type": "stream",
     "text": [
      "3\n",
      "8\n"
     ]
    }
   ],
   "source": [
    "# 注意python是按缩进对齐\n",
    "# 缩进的过程中 空格和tab不可以混用\n",
    "num = 3\n",
    "if num == 3: \n",
    "    print(num)\n",
    "\n",
    "num = 2\n",
    "if num == 3:\n",
    "    print(num)\n",
    "else:\n",
    "    print(num**3)"
   ]
  },
  {
   "cell_type": "code",
   "execution_count": 46,
   "id": "04ccb96b",
   "metadata": {},
   "outputs": [
    {
     "name": "stdout",
     "output_type": "stream",
     "text": [
      "13\n"
     ]
    }
   ],
   "source": [
    "num = 3\n",
    "if num > 10:\n",
    "    print(num)\n",
    "else:\n",
    "    print(num + 10)"
   ]
  },
  {
   "cell_type": "code",
   "execution_count": 47,
   "id": "d791c3cf",
   "metadata": {},
   "outputs": [
    {
     "data": {
      "text/plain": [
       "True"
      ]
     },
     "execution_count": 47,
     "metadata": {},
     "output_type": "execute_result"
    }
   ],
   "source": [
    "num = 4\n",
    "num > 0 and num  < 15"
   ]
  },
  {
   "cell_type": "code",
   "execution_count": 1,
   "id": "c75c09e6",
   "metadata": {},
   "outputs": [
    {
     "name": "stdout",
     "output_type": "stream",
     "text": [
      "number is not greater than 3\n"
     ]
    }
   ],
   "source": [
    "num = 1\n",
    "if num > 3 :\n",
    "    print(\"Hi\")\n",
    "else: \n",
    "    print(\"number is not greater than 3\")"
   ]
  },
  {
   "cell_type": "code",
   "execution_count": null,
   "id": "e1ed262f",
   "metadata": {},
   "outputs": [],
   "source": [
    "num = 21\n",
    "if num > 50:\n",
    "    print('num is larger than 50')\n",
    "elif num == 21:\n",
    "    print('num = 21')\n",
    "else:\n",
    "    print('Catchall condition')"
   ]
  },
  {
   "cell_type": "markdown",
   "id": "2c3101e9",
   "metadata": {},
   "source": [
    "## 1.6 List, Tuple"
   ]
  },
  {
   "cell_type": "code",
   "execution_count": 5,
   "id": "a65e3e20",
   "metadata": {},
   "outputs": [
    {
     "data": {
      "text/plain": [
       "[3, 7]"
      ]
     },
     "execution_count": 5,
     "metadata": {},
     "output_type": "execute_result"
    }
   ],
   "source": [
    "# Defining a list\n",
    "z = [3, 7, 4, 2]\n",
    "\n",
    "# The first element of a list is at index 0\n",
    "z[0]\n",
    "\n",
    "# Access Last Element of List \n",
    "z[-2]\n",
    "\n",
    "# first index is inclusive (before the :) and last (after the :) is not. \n",
    "# not including index 2\n",
    "z[0:2]"
   ]
  },
  {
   "cell_type": "code",
   "execution_count": 2,
   "id": "3620aa04",
   "metadata": {},
   "outputs": [
    {
     "ename": "NameError",
     "evalue": "name 'z' is not defined",
     "output_type": "error",
     "traceback": [
      "\u001b[0;31m---------------------------------------------------------------------------\u001b[0m",
      "\u001b[0;31mNameError\u001b[0m                                 Traceback (most recent call last)",
      "Cell \u001b[0;32mIn [2], line 2\u001b[0m\n\u001b[1;32m      1\u001b[0m \u001b[38;5;66;03m# Access Last Element of List \u001b[39;00m\n\u001b[0;32m----> 2\u001b[0m z[\u001b[38;5;241m-\u001b[39m\u001b[38;5;241m2\u001b[39m]\n",
      "\u001b[0;31mNameError\u001b[0m: name 'z' is not defined"
     ]
    }
   ],
   "source": [
    "# Access Last Element of List \n",
    "z[-2]"
   ]
  },
  {
   "cell_type": "code",
   "execution_count": 6,
   "id": "f3ad5412",
   "metadata": {},
   "outputs": [
    {
     "data": {
      "text/plain": [
       "[3, 7]"
      ]
     },
     "execution_count": 6,
     "metadata": {},
     "output_type": "execute_result"
    }
   ],
   "source": [
    "# first index is inclusive (before the :) and last (after the :) is not. \n",
    "# not including index 2\n",
    "z[0:2]"
   ]
  },
  {
   "cell_type": "code",
   "execution_count": 7,
   "id": "6ae7f760",
   "metadata": {},
   "outputs": [
    {
     "data": {
      "text/plain": [
       "[3, 7, 4]"
      ]
     },
     "execution_count": 7,
     "metadata": {},
     "output_type": "execute_result"
    }
   ],
   "source": [
    "# everything up to index 3\n",
    "z[:3]"
   ]
  },
  {
   "cell_type": "code",
   "execution_count": 8,
   "id": "114f347b",
   "metadata": {},
   "outputs": [
    {
     "data": {
      "text/plain": [
       "[7, 4, 2]"
      ]
     },
     "execution_count": 8,
     "metadata": {},
     "output_type": "execute_result"
    }
   ],
   "source": [
    "# index 1 to end of list\n",
    "z[1:]"
   ]
  },
  {
   "cell_type": "code",
   "execution_count": 9,
   "id": "90d5d550",
   "metadata": {},
   "outputs": [
    {
     "name": "stdout",
     "output_type": "stream",
     "text": [
      "2 7 4 16\n"
     ]
    }
   ],
   "source": [
    "# Minimum, Maximum, Length, and Sum of a list\n",
    "print(min(z), max(z), len(z), sum(z))"
   ]
  },
  {
   "cell_type": "code",
   "execution_count": null,
   "id": "43fa8471",
   "metadata": {},
   "outputs": [],
   "source": [
    "#Count Number of Times Value is in List\n",
    "random_list = [4, 1, 5, 4, 10, 4]\n",
    "random_list.count(4)"
   ]
  },
  {
   "cell_type": "code",
   "execution_count": null,
   "id": "67e27f39",
   "metadata": {},
   "outputs": [],
   "source": [
    "# Return First Index of Value\n",
    "random_list.index(4)"
   ]
  },
  {
   "cell_type": "code",
   "execution_count": null,
   "id": "0acd18e1",
   "metadata": {},
   "outputs": [],
   "source": [
    "# you can specify where you start your search\n",
    "random_list.index(4, 3)"
   ]
  },
  {
   "cell_type": "markdown",
   "id": "f6abb046",
   "metadata": {},
   "source": [
    "### 1.6.1 排序"
   ]
  },
  {
   "cell_type": "code",
   "execution_count": null,
   "id": "956ad744",
   "metadata": {},
   "outputs": [],
   "source": [
    "x = [3, 7, 2, 11, 8, 10, 4]\n",
    "y = ['Steve', 'Rachel', 'Michael', 'Adam', 'Monica', 'Jessica', 'Lester']"
   ]
  },
  {
   "cell_type": "code",
   "execution_count": null,
   "id": "fe101dc5",
   "metadata": {},
   "outputs": [],
   "source": [
    "# Sorting and Altering original list\n",
    "# low to high\n",
    "x.sort()\n",
    "print(x)"
   ]
  },
  {
   "cell_type": "code",
   "execution_count": null,
   "id": "3c132c3c",
   "metadata": {},
   "outputs": [],
   "source": [
    "# Sorting and Altering original list\n",
    "# high to low\n",
    "x.sort(reverse = True)\n",
    "print(x)"
   ]
  },
  {
   "cell_type": "code",
   "execution_count": null,
   "id": "24372dbb",
   "metadata": {},
   "outputs": [],
   "source": [
    "# Sorting and Altering original list\n",
    "# Z-A\n",
    "y.sort(reverse = True)\n",
    "print(y)"
   ]
  },
  {
   "cell_type": "markdown",
   "id": "e90b4ce5",
   "metadata": {},
   "source": [
    "### 1.6.2 插入"
   ]
  },
  {
   "cell_type": "code",
   "execution_count": null,
   "id": "79d78409",
   "metadata": {},
   "outputs": [],
   "source": [
    "x"
   ]
  },
  {
   "cell_type": "code",
   "execution_count": null,
   "id": "5d107de7",
   "metadata": {},
   "outputs": [],
   "source": [
    "x.append(3)\n",
    "print(x)"
   ]
  },
  {
   "cell_type": "code",
   "execution_count": null,
   "id": "273c4613",
   "metadata": {},
   "outputs": [],
   "source": [
    "x.insert(4, [4, 5])"
   ]
  },
  {
   "cell_type": "code",
   "execution_count": null,
   "id": "a719600a",
   "metadata": {},
   "outputs": [],
   "source": [
    "x"
   ]
  },
  {
   "cell_type": "markdown",
   "id": "d99b0517",
   "metadata": {},
   "source": [
    "### 1.6.3 删除"
   ]
  },
  {
   "cell_type": "code",
   "execution_count": null,
   "id": "4a215519",
   "metadata": {},
   "outputs": [],
   "source": [
    "x.remove(10)\n",
    "print(x)"
   ]
  },
  {
   "cell_type": "code",
   "execution_count": null,
   "id": "1af62f5d",
   "metadata": {},
   "outputs": [],
   "source": [
    "# Remove Item at the Index you Provide\n",
    "x.pop(3)"
   ]
  },
  {
   "cell_type": "code",
   "execution_count": null,
   "id": "9468ab98",
   "metadata": {},
   "outputs": [],
   "source": [
    "print(x)"
   ]
  },
  {
   "cell_type": "markdown",
   "id": "201e4537",
   "metadata": {},
   "source": [
    "### 1.6.4 扩展"
   ]
  },
  {
   "cell_type": "code",
   "execution_count": null,
   "id": "8092113f",
   "metadata": {},
   "outputs": [],
   "source": [
    "x"
   ]
  },
  {
   "cell_type": "code",
   "execution_count": null,
   "id": "b4c5b39e",
   "metadata": {},
   "outputs": [],
   "source": [
    "x.extend([4, 5])"
   ]
  },
  {
   "cell_type": "code",
   "execution_count": null,
   "id": "fd849724",
   "metadata": {},
   "outputs": [],
   "source": [
    "x"
   ]
  },
  {
   "cell_type": "markdown",
   "id": "db8087c6",
   "metadata": {},
   "source": [
    "### 1.6.5Tuple"
   ]
  },
  {
   "cell_type": "code",
   "execution_count": null,
   "id": "7d0c908a",
   "metadata": {},
   "outputs": [],
   "source": [
    "emptyTuple = ()"
   ]
  },
  {
   "cell_type": "code",
   "execution_count": null,
   "id": "5a56ada2",
   "metadata": {},
   "outputs": [],
   "source": [
    "# init\n",
    "z = (3, 7, 4, 2)\n",
    "\n",
    "z = 3, 7, 4, 2"
   ]
  },
  {
   "cell_type": "code",
   "execution_count": null,
   "id": "d9c12af8",
   "metadata": {},
   "outputs": [],
   "source": [
    "# Initialize a tuple\n",
    "z = (3, 7, 4, 2)\n",
    "\n",
    "# Access the first item of a tuple at index 0\n",
    "print(z[0])\n",
    "# print last item in the tuple\n",
    "print(z[-1])"
   ]
  },
  {
   "cell_type": "code",
   "execution_count": null,
   "id": "fba19d96",
   "metadata": {},
   "outputs": [],
   "source": [
    "# Initialize a tuple\n",
    "z = (3, 7, 4, 2)\n",
    "\n",
    "# first index is inclusive (before the :) and last (after the :) is not.\n",
    "print(z[0:2])"
   ]
  },
  {
   "cell_type": "markdown",
   "id": "c1e70319",
   "metadata": {},
   "source": [
    "Tuple值不可以更新"
   ]
  },
  {
   "cell_type": "code",
   "execution_count": null,
   "id": "bb840fcd",
   "metadata": {},
   "outputs": [],
   "source": [
    "z = (3, 7, 4, 2)\n",
    "\n",
    "z[1] = \"fish\""
   ]
  },
  {
   "cell_type": "code",
   "execution_count": null,
   "id": "33b6d992",
   "metadata": {},
   "outputs": [],
   "source": [
    "for item in ('lama', 'sheep', 'lama', 48):\n",
    "    print(item)"
   ]
  },
  {
   "cell_type": "markdown",
   "id": "a6107265",
   "metadata": {},
   "source": [
    "#### Tuple 优势"
   ]
  },
  {
   "cell_type": "code",
   "execution_count": null,
   "id": "bf60e335",
   "metadata": {},
   "outputs": [],
   "source": [
    "import timeit \n",
    "print('Tuple time: ', timeit.timeit('x=(1,2,3,4,5,6,7,8,9,10,11,12)', number=1000000))\n",
    "print('List time: ', timeit.timeit('x=[1,2,3,4,5,6,7,8,9,10,11,12]', number=1000000))"
   ]
  },
  {
   "cell_type": "code",
   "execution_count": null,
   "id": "4012643a",
   "metadata": {},
   "outputs": [],
   "source": [
    "bigramsTupleDict = {('this', 'is'): 23,\n",
    "                    ('is', 'a'): 12,\n",
    "                    ('a', 'sentence'): 2}\n",
    "\n",
    "print(bigramsTupleDict)"
   ]
  },
  {
   "cell_type": "code",
   "execution_count": null,
   "id": "7f1ed9e8",
   "metadata": {},
   "outputs": [],
   "source": [
    "# Lists can NOT be dictionary keys\n",
    "bigramsListDict = {['this', 'is']: 23,\n",
    "                   ['is', 'a']: 12,\n",
    "                   ['a', 'sentence']: 2}\n",
    "\n",
    "print(bigramsListDict)"
   ]
  },
  {
   "cell_type": "code",
   "execution_count": null,
   "id": "f564ad4b",
   "metadata": {},
   "outputs": [],
   "source": [
    "graphicDesigner = {('this', 'is'),\n",
    "                   ('is', 'a'),\n",
    "                   ('a', 'sentence')}\n",
    "print(graphicDesigner)"
   ]
  },
  {
   "cell_type": "code",
   "execution_count": null,
   "id": "e2a3bfa1",
   "metadata": {},
   "outputs": [],
   "source": [
    "# Lists can NOT be values in a set\n",
    "graphicDesigner = {['this', 'is'],\n",
    "                   ['is', 'a'],\n",
    "                   ['a', 'sentence']}\n",
    "print(graphicDesigner)"
   ]
  },
  {
   "cell_type": "markdown",
   "id": "45aeee6f",
   "metadata": {},
   "source": [
    "## 1.7 字典"
   ]
  },
  {
   "cell_type": "code",
   "execution_count": null,
   "id": "e251c671",
   "metadata": {},
   "outputs": [],
   "source": [
    "webstersDict = {'person': 'a human being, whether an adult or child', 'marathon': 'a running race that is about 26 miles', 'resist': ' to remain strong against the force or effect of (something)', 'run': 'to move with haste; act quickly'}"
   ]
  },
  {
   "cell_type": "code",
   "execution_count": null,
   "id": "6d3dc311",
   "metadata": {},
   "outputs": [],
   "source": [
    "webstersDict"
   ]
  },
  {
   "cell_type": "code",
   "execution_count": null,
   "id": "33fe6f6c",
   "metadata": {},
   "outputs": [],
   "source": [
    "# Accessing Values in a Dictionary\n",
    "# dictionary[key]\n",
    "webstersDict['marathon']"
   ]
  },
  {
   "cell_type": "code",
   "execution_count": null,
   "id": "e201897a",
   "metadata": {},
   "outputs": [],
   "source": [
    "# Updating Dictionary\n",
    "# add one new key value pair to dictionary\n",
    "webstersDict['shoe'] = 'an external covering for the human foot'\n",
    "\n",
    "# return the value for the 'shoe' key\n",
    "webstersDict['shoe']"
   ]
  },
  {
   "cell_type": "code",
   "execution_count": null,
   "id": "f852e192",
   "metadata": {},
   "outputs": [],
   "source": [
    "\n",
    "# update method, update or add more than key value pair at a time \n",
    "webstersDict.update({'shirt': 'a long- or short-sleeved garment for the upper part of the body'\n",
    "                     , 'shoe': 'an external covering for the human foot, usually of leather and consisting of a more or less stiff or heavy sole and a lighter upper part ending a short distance above, at, or below the ankle.'})\n",
    "webstersDict"
   ]
  },
  {
   "cell_type": "code",
   "execution_count": null,
   "id": "7b19b8d7",
   "metadata": {},
   "outputs": [],
   "source": [
    "# Removing key from dictionary\n",
    "del webstersDict['resist']\n",
    "webstersDict"
   ]
  },
  {
   "cell_type": "markdown",
   "id": "2be8d8f5",
   "metadata": {},
   "source": [
    "只有可以迭代的对象可以作为key, list就不可以"
   ]
  },
  {
   "cell_type": "code",
   "execution_count": null,
   "id": "e3b9c55c",
   "metadata": {},
   "outputs": [],
   "source": [
    "webstersDict[['sock']] = \"Wrong\""
   ]
  },
  {
   "cell_type": "code",
   "execution_count": null,
   "id": "5ca6c184",
   "metadata": {},
   "outputs": [],
   "source": [
    "storyCount = {'is': 100, 'the': 90, 'Michael': 12, 'runs': 5}"
   ]
  },
  {
   "cell_type": "code",
   "execution_count": null,
   "id": "b3e89be0",
   "metadata": {},
   "outputs": [],
   "source": [
    "# key error for keys that do not exist\n",
    "storyCount['run']"
   ]
  },
  {
   "cell_type": "code",
   "execution_count": null,
   "id": "e10cc13b",
   "metadata": {},
   "outputs": [],
   "source": [
    "# if key doesnt exist, \n",
    "# specify default value for keys that dont exist. \n",
    "# returns value for key you enter if it is in dictionary\n",
    "# else it returns the value you have for default\n",
    "storyCount.get('Michael', 0)"
   ]
  },
  {
   "cell_type": "code",
   "execution_count": null,
   "id": "283bddf3",
   "metadata": {},
   "outputs": [],
   "source": [
    "# When you dont set default value for key that doesnt exist, \n",
    "# it defaults to none\n",
    "print(storyCount.get('run'))"
   ]
  },
  {
   "cell_type": "code",
   "execution_count": null,
   "id": "e0313d63",
   "metadata": {},
   "outputs": [],
   "source": [
    "# Making default value for key that doesn't exist 0. \n",
    "print(storyCount.get('run', 0))"
   ]
  },
  {
   "cell_type": "code",
   "execution_count": null,
   "id": "8432dd64",
   "metadata": {},
   "outputs": [],
   "source": [
    "count = storyCount.pop('the')\n",
    "print(count)"
   ]
  },
  {
   "cell_type": "markdown",
   "id": "4327489e",
   "metadata": {},
   "source": [
    "### 1.7.1 迭代"
   ]
  },
  {
   "cell_type": "code",
   "execution_count": null,
   "id": "9d3849ef",
   "metadata": {},
   "outputs": [],
   "source": [
    "# return keys in dictionary\n",
    "print(storyCount.keys())\n",
    "\n",
    "# return values in dictionary\n",
    "print(storyCount.values())"
   ]
  },
  {
   "cell_type": "code",
   "execution_count": null,
   "id": "097a81b3",
   "metadata": {},
   "outputs": [],
   "source": [
    "# iterate through keys\n",
    "for key in storyCount: \n",
    "    print(key)"
   ]
  },
  {
   "cell_type": "code",
   "execution_count": null,
   "id": "deb37af2",
   "metadata": {},
   "outputs": [],
   "source": [
    "# iterate through keys and values\n",
    "for key, value in webstersDict.items():\n",
    "    print(key, value)"
   ]
  },
  {
   "cell_type": "markdown",
   "id": "00a91fd8",
   "metadata": {},
   "source": [
    "## 1.8 循环"
   ]
  },
  {
   "cell_type": "code",
   "execution_count": null,
   "id": "33947e64",
   "metadata": {},
   "outputs": [],
   "source": [
    "for number in [23, 41, 12, 16, 7]: \n",
    "    print(number)\n",
    "print('Hi')"
   ]
  },
  {
   "cell_type": "code",
   "execution_count": null,
   "id": "13be3da6",
   "metadata": {},
   "outputs": [],
   "source": [
    "friends = ['steve', 'rachel', 'michael', 'adam', 'monica']\n",
    "for index, friend in enumerate(friends):\n",
    "    print(index,friend)"
   ]
  },
  {
   "cell_type": "code",
   "execution_count": null,
   "id": "ff70f9d2",
   "metadata": {},
   "outputs": [],
   "source": [
    "original_list = range(10)\n",
    "list(original_list)"
   ]
  },
  {
   "cell_type": "code",
   "execution_count": null,
   "id": "3e42b806",
   "metadata": {},
   "outputs": [],
   "source": [
    "odd_list = []\n",
    "for number in original_list:\n",
    "    if number % 2 == 0:\n",
    "        continue\n",
    "    odd_list.append(number)\n",
    "odd_list        "
   ]
  },
  {
   "cell_type": "code",
   "execution_count": null,
   "id": "9b256e8e",
   "metadata": {},
   "outputs": [],
   "source": [
    "for number in original_list:\n",
    "    if number > 5:\n",
    "        break\n",
    "    print(number)"
   ]
  },
  {
   "cell_type": "code",
   "execution_count": null,
   "id": "49a73cc3",
   "metadata": {},
   "outputs": [],
   "source": [
    "count = 0\n",
    "while count <= 5:\n",
    "    print(count)\n",
    "    count = count + 1"
   ]
  },
  {
   "cell_type": "code",
   "execution_count": null,
   "id": "c92d2160",
   "metadata": {},
   "outputs": [],
   "source": [
    "count = 0\n",
    "while count <= 5:\n",
    "    if count == 2:\n",
    "        break\n",
    "    count += 1\n",
    "    print(count)"
   ]
  },
  {
   "cell_type": "markdown",
   "id": "13f611ae",
   "metadata": {},
   "source": [
    "## 1.8 函数"
   ]
  },
  {
   "cell_type": "code",
   "execution_count": null,
   "id": "f5c445e1",
   "metadata": {},
   "outputs": [],
   "source": [
    "def remove_duplicates(duplicate): \n",
    "    uniques = [] \n",
    "    for num in duplicate: \n",
    "        if num not in uniques: \n",
    "            uniques.append(num) \n",
    "    return(uniques)\n",
    "      \n",
    "duplicate = [2, 4, 10, 20, 5, 2, 20, 4] \n",
    "print(remove_duplicates(duplicate)) "
   ]
  },
  {
   "cell_type": "markdown",
   "id": "e39f812f",
   "metadata": {},
   "source": [
    "## 1.9 类"
   ]
  },
  {
   "cell_type": "code",
   "execution_count": null,
   "id": "3809a585",
   "metadata": {},
   "outputs": [],
   "source": [
    "type(0)"
   ]
  },
  {
   "cell_type": "code",
   "execution_count": null,
   "id": "14ef04e4",
   "metadata": {},
   "outputs": [],
   "source": [
    "class A:\n",
    "    pass"
   ]
  },
  {
   "cell_type": "code",
   "execution_count": null,
   "id": "be95fc4b",
   "metadata": {},
   "outputs": [],
   "source": [
    "A"
   ]
  },
  {
   "cell_type": "code",
   "execution_count": null,
   "id": "5844e907",
   "metadata": {},
   "outputs": [],
   "source": [
    "cla = A()\n",
    "\n",
    "cla"
   ]
  },
  {
   "cell_type": "code",
   "execution_count": null,
   "id": "c58c5b04",
   "metadata": {},
   "outputs": [],
   "source": [
    "class person:\n",
    "    def __init__(self, pid, name, addr):\n",
    "        self.pid = pid\n",
    "        self.name = name\n",
    "        self.addr = addr\n",
    "        \n",
    "    def get_name(self):\n",
    "        return (self.name)"
   ]
  },
  {
   "cell_type": "code",
   "execution_count": null,
   "id": "c7fea8db",
   "metadata": {},
   "outputs": [],
   "source": [
    "p1 = person(\"00001\", \"zyt\", \"xxxxx\")\n",
    "p1.get_name()"
   ]
  },
  {
   "cell_type": "code",
   "execution_count": null,
   "id": "cd34f377",
   "metadata": {},
   "outputs": [],
   "source": [
    "p1.name = \"zyt2\"\n",
    "p1.get_name()"
   ]
  },
  {
   "cell_type": "code",
   "execution_count": null,
   "id": "c5f263c4",
   "metadata": {},
   "outputs": [],
   "source": [
    "class student(person):\n",
    "    def __init__(self, pid, name, addr, school):\n",
    "        super(student, self).__init__(pid, name, addr)\n",
    "        self.school = school\n",
    "    "
   ]
  },
  {
   "cell_type": "code",
   "execution_count": null,
   "id": "c1be344a",
   "metadata": {},
   "outputs": [],
   "source": [
    "p2 = student(\"00002\", \"zyt3\", \"xxxxx\", \"USTC\")\n",
    "p2.get_name()"
   ]
  },
  {
   "cell_type": "code",
   "execution_count": null,
   "id": "994cf9de",
   "metadata": {},
   "outputs": [],
   "source": [
    "class teacher(person):\n",
    "    def __init__(self, pid, name, addr, school):\n",
    "        super(teacher, self).__init__(pid, name, addr)\n",
    "        self.school = school\n",
    "    \n",
    "    def get_name(self):\n",
    "        return self.name, self.pid\n",
    "    "
   ]
  },
  {
   "cell_type": "code",
   "execution_count": null,
   "id": "b987946f",
   "metadata": {},
   "outputs": [],
   "source": [
    "p3 = teacher(\"00003\", \"lm\", \"xxxxx\", \"USTC\")\n",
    "p3.get_name()"
   ]
  },
  {
   "cell_type": "code",
   "execution_count": null,
   "id": "784f8869",
   "metadata": {},
   "outputs": [],
   "source": []
  }
 ],
 "metadata": {
  "kernelspec": {
   "display_name": "Python 3.9.12 ('base')",
   "language": "python",
   "name": "python3"
  },
  "language_info": {
   "codemirror_mode": {
    "name": "ipython",
    "version": 3
   },
   "file_extension": ".py",
   "mimetype": "text/x-python",
   "name": "python",
   "nbconvert_exporter": "python",
   "pygments_lexer": "ipython3",
   "version": "3.9.12"
  },
  "vscode": {
   "interpreter": {
    "hash": "10b64fb600cf202ef54af29224834694bcb93f28bca7af7234f805e5e67a81f1"
   }
  }
 },
 "nbformat": 4,
 "nbformat_minor": 5
}
